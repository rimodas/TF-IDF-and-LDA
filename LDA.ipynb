{
 "cells": [
  {
   "cell_type": "markdown",
   "metadata": {},
   "source": [
    "# Loading the data"
   ]
  },
  {
   "cell_type": "code",
   "execution_count": 1,
   "metadata": {},
   "outputs": [],
   "source": [
    "import pandas as pd\n",
    "df_automotive = pd.read_csv('reviews_Automotive_5.csv')"
   ]
  },
  {
   "cell_type": "code",
   "execution_count": 2,
   "metadata": {},
   "outputs": [],
   "source": [
    "df_automotive['tag'] = 'automotive'"
   ]
  },
  {
   "cell_type": "code",
   "execution_count": 3,
   "metadata": {},
   "outputs": [],
   "source": [
    "automotive = df_automotive[['reviewText','tag']]"
   ]
  },
  {
   "cell_type": "code",
   "execution_count": 4,
   "metadata": {},
   "outputs": [],
   "source": [
    "df_beauty = pd.read_csv('reviews_Beauty_5.csv')\n",
    "df_beauty['tag'] = 'beauty'\n",
    "beauty = df_beauty[['reviewText','tag']]"
   ]
  },
  {
   "cell_type": "code",
   "execution_count": 5,
   "metadata": {},
   "outputs": [],
   "source": [
    "df_clothingShoesJewelry = pd.read_csv('reviews_Clothing_Shoes_and_Jewelry_5.csv')\n",
    "df_clothingShoesJewelry['tag'] = 'clothingShoesJewelry'\n",
    "clothingShoesJewelry = df_clothingShoesJewelry[['reviewText','tag']]"
   ]
  },
  {
   "cell_type": "code",
   "execution_count": 6,
   "metadata": {},
   "outputs": [],
   "source": [
    "df_electronics = pd.read_csv('reviews_Electronics_5.csv')\n",
    "df_electronics['tag'] = 'electronics'\n",
    "electronics = df_electronics[['reviewText','tag']]"
   ]
  },
  {
   "cell_type": "code",
   "execution_count": 7,
   "metadata": {},
   "outputs": [],
   "source": [
    "df_homeKitchen = pd.read_csv('reviews_Home_and_Kitchen_5.csv')\n",
    "df_homeKitchen['tag'] = 'homeKitchen'\n",
    "homeKitchen = df_homeKitchen[['reviewText','tag']]"
   ]
  },
  {
   "cell_type": "code",
   "execution_count": 8,
   "metadata": {},
   "outputs": [],
   "source": [
    "reviews = pd.concat([automotive,beauty,clothingShoesJewelry,electronics,homeKitchen],ignore_index=True)"
   ]
  },
  {
   "cell_type": "code",
   "execution_count": 9,
   "metadata": {},
   "outputs": [
    {
     "name": "stdout",
     "output_type": "stream",
     "text": [
      "<class 'pandas.core.frame.DataFrame'>\n",
      "RangeIndex: 50000 entries, 0 to 49999\n",
      "Data columns (total 2 columns):\n",
      "reviewText    49983 non-null object\n",
      "tag           50000 non-null object\n",
      "dtypes: object(2)\n",
      "memory usage: 781.3+ KB\n"
     ]
    }
   ],
   "source": [
    "reviews.info()"
   ]
  },
  {
   "cell_type": "code",
   "execution_count": 10,
   "metadata": {},
   "outputs": [
    {
     "data": {
      "text/html": [
       "<div>\n",
       "<style scoped>\n",
       "    .dataframe tbody tr th:only-of-type {\n",
       "        vertical-align: middle;\n",
       "    }\n",
       "\n",
       "    .dataframe tbody tr th {\n",
       "        vertical-align: top;\n",
       "    }\n",
       "\n",
       "    .dataframe thead th {\n",
       "        text-align: right;\n",
       "    }\n",
       "</style>\n",
       "<table border=\"1\" class=\"dataframe\">\n",
       "  <thead>\n",
       "    <tr style=\"text-align: right;\">\n",
       "      <th></th>\n",
       "      <th>reviewText</th>\n",
       "      <th>tag</th>\n",
       "    </tr>\n",
       "  </thead>\n",
       "  <tbody>\n",
       "    <tr>\n",
       "      <th>count</th>\n",
       "      <td>49983</td>\n",
       "      <td>50000</td>\n",
       "    </tr>\n",
       "    <tr>\n",
       "      <th>unique</th>\n",
       "      <td>49982</td>\n",
       "      <td>5</td>\n",
       "    </tr>\n",
       "    <tr>\n",
       "      <th>top</th>\n",
       "      <td>Good</td>\n",
       "      <td>electronics</td>\n",
       "    </tr>\n",
       "    <tr>\n",
       "      <th>freq</th>\n",
       "      <td>2</td>\n",
       "      <td>10000</td>\n",
       "    </tr>\n",
       "  </tbody>\n",
       "</table>\n",
       "</div>"
      ],
      "text/plain": [
       "       reviewText          tag\n",
       "count       49983        50000\n",
       "unique      49982            5\n",
       "top          Good  electronics\n",
       "freq            2        10000"
      ]
     },
     "execution_count": 10,
     "metadata": {},
     "output_type": "execute_result"
    }
   ],
   "source": [
    "reviews.describe()"
   ]
  },
  {
   "cell_type": "markdown",
   "metadata": {},
   "source": [
    "# Preprocess reviews"
   ]
  },
  {
   "cell_type": "code",
   "execution_count": 11,
   "metadata": {},
   "outputs": [
    {
     "name": "stderr",
     "output_type": "stream",
     "text": [
      "C:\\Users\\rimo\\Anaconda3\\lib\\site-packages\\gensim\\utils.py:1197: UserWarning: detected Windows; aliasing chunkize to chunkize_serial\n",
      "  warnings.warn(\"detected Windows; aliasing chunkize to chunkize_serial\")\n"
     ]
    }
   ],
   "source": [
    "from nltk.tokenize import RegexpTokenizer\n",
    "from nltk.corpus import stopwords\n",
    "from stop_words import get_stop_words\n",
    "from nltk.stem.snowball import SnowballStemmer\n",
    "from gensim import corpora, models\n",
    "import gensim"
   ]
  },
  {
   "cell_type": "code",
   "execution_count": 12,
   "metadata": {},
   "outputs": [],
   "source": [
    "tokenizer = RegexpTokenizer(r'\\w+')"
   ]
  },
  {
   "cell_type": "code",
   "execution_count": 13,
   "metadata": {},
   "outputs": [],
   "source": [
    "nltk_stpwd = stopwords.words('english')\n",
    "stop_words_stpwd = get_stop_words('en')\n",
    "merged_stopwords = list(set(nltk_stpwd + stop_words_stpwd))"
   ]
  },
  {
   "cell_type": "code",
   "execution_count": 14,
   "metadata": {},
   "outputs": [],
   "source": [
    "sb_stemmer = SnowballStemmer('english')"
   ]
  },
  {
   "cell_type": "code",
   "execution_count": 15,
   "metadata": {},
   "outputs": [],
   "source": [
    "num_reviews = reviews.shape[0]\n",
    "\n",
    "doc_set = [reviews.reviewText[i] for i in range(num_reviews)]\n",
    "\n",
    "texts = []\n",
    "\n",
    "for doc in doc_set:\n",
    "    if type(doc) is str:\n",
    "        tokens = tokenizer.tokenize(doc.lower())\n",
    "        stopped_tokens = [token for token in tokens if not token in merged_stopwords]\n",
    "        stemmed_tokens = [sb_stemmer.stem(token) for token in stopped_tokens]\n",
    "        texts.append(stemmed_tokens)"
   ]
  },
  {
   "cell_type": "code",
   "execution_count": 16,
   "metadata": {},
   "outputs": [
    {
     "data": {
      "text/plain": [
       "49983"
      ]
     },
     "execution_count": 16,
     "metadata": {},
     "output_type": "execute_result"
    }
   ],
   "source": [
    "len(texts)"
   ]
  },
  {
   "cell_type": "markdown",
   "metadata": {},
   "source": [
    "# Transforming tokenized documents into an id-term dictionary"
   ]
  },
  {
   "cell_type": "code",
   "execution_count": 17,
   "metadata": {},
   "outputs": [
    {
     "name": "stdout",
     "output_type": "stream",
     "text": [
      "Dictionary(39692 unique tokens: ['acidiccon', 'afullmark', 'barley', 'becom', 'behind']...)\n"
     ]
    }
   ],
   "source": [
    "texts_dict = gensim.corpora.Dictionary(texts)\n",
    "texts_dict.save('reviews.dict')\n",
    "# Examine each token’s unique id\n",
    "print(texts_dict)"
   ]
  },
  {
   "cell_type": "code",
   "execution_count": 18,
   "metadata": {},
   "outputs": [
    {
     "name": "stdout",
     "output_type": "stream",
     "text": [
      "Dictionary(4267 unique tokens: ['becom', 'behind', 'bottl', 'brush', 'clean']...)\n",
      "top terms:\n",
      "[('becom', 0), ('behind', 1), ('bottl', 2), ('brush', 3), ('clean', 4), ('complic', 5), ('dirt', 6), ('easi', 7), ('enough', 8), ('even', 9)]\n"
     ]
    }
   ],
   "source": [
    "import operator\n",
    "texts_dict.filter_extremes(no_below=30, no_above=0.15) # inlace filter\n",
    "print(texts_dict)\n",
    "print(\"top terms:\")\n",
    "print(sorted(texts_dict.token2id.items(), key=operator.itemgetter(1), reverse = False)[:10])"
   ]
  },
  {
   "cell_type": "markdown",
   "metadata": {},
   "source": [
    "# Creating bag of words"
   ]
  },
  {
   "cell_type": "code",
   "execution_count": 19,
   "metadata": {},
   "outputs": [
    {
     "data": {
      "text/plain": [
       "49983"
      ]
     },
     "execution_count": 19,
     "metadata": {},
     "output_type": "execute_result"
    }
   ],
   "source": [
    "corpus = [texts_dict.doc2bow(text) for text in texts]\n",
    "len(corpus)"
   ]
  },
  {
   "cell_type": "code",
   "execution_count": 20,
   "metadata": {},
   "outputs": [],
   "source": [
    "gensim.corpora.MmCorpus.serialize('reviews.mm', corpus)"
   ]
  },
  {
   "cell_type": "markdown",
   "metadata": {},
   "source": [
    "# Training an LDA model"
   ]
  },
  {
   "cell_type": "code",
   "execution_count": 21,
   "metadata": {},
   "outputs": [
    {
     "name": "stderr",
     "output_type": "stream",
     "text": [
      "C:\\Users\\rimo\\Anaconda3\\lib\\site-packages\\gensim\\models\\ldamodel.py:775: RuntimeWarning: divide by zero encountered in log\n",
      "  diff = np.log(self.expElogbeta)\n"
     ]
    }
   ],
   "source": [
    "import random\n",
    "topicnums = [1,5,10,15,20,30,40,50,60,70,80,90,100]\n",
    "ldamodels_bow = {}\n",
    "for i in topicnums:\n",
    "    random.seed(42)\n",
    "    ldamodels_bow[i] = gensim.models.ldamodel.LdaModel(corpus,num_topics=i,id2word=texts_dict,passes=4)\n",
    "    ldamodels_bow[i].save('ldamodels_bow_'+str(i)+'.lda')"
   ]
  },
  {
   "cell_type": "code",
   "execution_count": 22,
   "metadata": {},
   "outputs": [],
   "source": [
    "def jaccard_similarity(query, document):\n",
    "    intersection = set(query).intersection(set(document))\n",
    "    union = set(query).union(set(document))\n",
    "    return float(len(intersection))/float(len(union))"
   ]
  },
  {
   "cell_type": "code",
   "execution_count": 25,
   "metadata": {},
   "outputs": [],
   "source": [
    "import pickle\n",
    "lda_topics = {}\n",
    "for i in topicnums:\n",
    "    lda_model = models.ldamodel.LdaModel.load('ldamodels_bow_'+str(i)+'.lda')\n",
    "    lda_topics_string = lda_model.show_topics(i)\n",
    "    lda_topics[i] = [\"\".join([c if c.isalpha() else \" \" for c in topic[1]]).split() for topic in lda_topics_string]\n",
    "\n",
    "pickle.dump(lda_topics,open('lda_bow_topics.pkl','wb'))"
   ]
  },
  {
   "cell_type": "code",
   "execution_count": 26,
   "metadata": {},
   "outputs": [],
   "source": [
    "lda_stability = {}\n",
    "for i in range(0,len(topicnums)-1):\n",
    "    jacc_sims = []\n",
    "    for t1,topic1 in enumerate(lda_topics[topicnums[i]]):\n",
    "        sims = []\n",
    "        for t2,topic2 in enumerate(lda_topics[topicnums[i+1]]):\n",
    "            sims.append(jaccard_similarity(topic1,topic2))    \n",
    "        jacc_sims.append(sims)    \n",
    "    lda_stability[topicnums[i]] = jacc_sims\n",
    "\n",
    "pickle.dump(lda_stability,open('lda_bow_stability.pkl','wb'))"
   ]
  },
  {
   "cell_type": "code",
   "execution_count": 31,
   "metadata": {},
   "outputs": [
    {
     "data": {
      "image/png": "[encoded data removed]",
      "text/plain": [
       "<matplotlib.figure.Figure at 0x1c91a870400>"
      ]
     },
     "metadata": {},
     "output_type": "display_data"
    }
   ],
   "source": [
    "import numpy as np\n",
    "%matplotlib inline\n",
    "import matplotlib.pyplot as plt\n",
    "import seaborn as sns\n",
    "lda_stability = pickle.load(open('lda_bow_stability.pkl','rb'))\n",
    "mean_stability = [np.array(lda_stability[i]).mean() for i in topicnums[:-1]]\n",
    "\n",
    "with sns.axes_style(\"darkgrid\"):\n",
    "    x = topicnums[:-1]\n",
    "    y = mean_stability\n",
    "    plt.plot(x,y,label='Average Overlap Between Topics')\n",
    "    plt.xlim([1, 100])\n",
    "    plt.ylim([0, 1])\n",
    "    plt.xlabel('Number of topics')\n",
    "    plt.ylabel('Average Jaccard similarity')   \n",
    "    plt.title('Average Jaccard Similarity Between Topics')\n",
    "    plt.legend()    \n",
    "    plt.show()"
   ]
  },
  {
   "cell_type": "code",
   "execution_count": 34,
   "metadata": {},
   "outputs": [
    {
     "name": "stderr",
     "output_type": "stream",
     "text": [
      "C:\\Users\\rimo\\Anaconda3\\lib\\site-packages\\ipykernel_launcher.py:11: SettingWithCopyWarning: \n",
      "A value is trying to be set on a copy of a slice from a DataFrame\n",
      "\n",
      "See the caveats in the documentation: http://pandas.pydata.org/pandas-docs/stable/indexing.html#indexing-view-versus-copy\n",
      "  # This is added back by InteractiveShellApp.init_path()\n"
     ]
    }
   ],
   "source": [
    "reviews['prediction'] = 10\n",
    "for r in range(50000):\n",
    "    doc = reviews.reviewText[r]\n",
    "    if type(doc) is str:\n",
    "        tokens = tokenizer.tokenize(doc.lower())\n",
    "        stopped_tokens = [token for token in tokens if not token in merged_stopwords]\n",
    "        stemmed_tokens = [sb_stemmer.stem(token) for token in stopped_tokens]\n",
    "        bow_vector = texts_dict.doc2bow(stemmed_tokens)\n",
    "        # transform into LDA space\n",
    "        lda_vector = ldamodels_bow[10][bow_vector]\n",
    "        reviews.prediction[r] = sorted(lda_vector, key=lambda item: item[1])[-1][0]"
   ]
  },
  {
   "cell_type": "code",
   "execution_count": 35,
   "metadata": {},
   "outputs": [],
   "source": [
    "reviews.to_csv('reviews_bow_prediction.csv')"
   ]
  },
  {
   "cell_type": "markdown",
   "metadata": {},
   "source": [
    "# TF-IDF + LDA"
   ]
  },
  {
   "cell_type": "code",
   "execution_count": 36,
   "metadata": {},
   "outputs": [
    {
     "name": "stderr",
     "output_type": "stream",
     "text": [
      "C:\\Users\\rimo\\Anaconda3\\lib\\site-packages\\gensim\\models\\ldamodel.py:775: RuntimeWarning: divide by zero encountered in log\n",
      "  diff = np.log(self.expElogbeta)\n"
     ]
    }
   ],
   "source": [
    "from sklearn.feature_extraction.text import TfidfVectorizer\n",
    "\n",
    "tfidf = models.TfidfModel(corpus)\n",
    "corpus_tfidf = tfidf[corpus]\n",
    "\n",
    "ldamodels_tfidf = {}\n",
    "for i in topicnums:\n",
    "    random.seed(42)\n",
    "    ldamodels_tfidf[i] = models.ldamodel.LdaModel(corpus_tfidf,num_topics=i,id2word=texts_dict)\n",
    "    ldamodels_tfidf[i].save('ldamodels_tfidf_'+str(i)+'.lda')"
   ]
  },
  {
   "cell_type": "code",
   "execution_count": 37,
   "metadata": {},
   "outputs": [],
   "source": [
    "lda_topics = {}\n",
    "for i in topicnums:\n",
    "    lda_model = models.ldamodel.LdaModel.load('ldamodels_tfidf_'+str(i)+'.lda')\n",
    "    lda_topics_string = lda_model.show_topics(i)\n",
    "    lda_topics[i] = [\"\".join([c if c.isalpha() else \" \" for c in topic[1]]).split() for topic in lda_topics_string]\n",
    "\n",
    "pickle.dump(lda_topics,open('lda_tfidf_topics.pkl','wb'))"
   ]
  },
  {
   "cell_type": "code",
   "execution_count": 38,
   "metadata": {},
   "outputs": [],
   "source": [
    "lda_stability = {}\n",
    "for i in range(0,len(topicnums)-1):\n",
    "    jacc_sims = []\n",
    "    for t1,topic1 in enumerate(lda_topics[topicnums[i]]):\n",
    "        sims = []\n",
    "        for t2,topic2 in enumerate(lda_topics[topicnums[i+1]]):\n",
    "            sims.append(jaccard_similarity(topic1,topic2))    \n",
    "        jacc_sims.append(sims)    \n",
    "    lda_stability[topicnums[i]] = jacc_sims\n",
    "\n",
    "pickle.dump(lda_stability,open('lda_tfidf_stability.pkl','wb'))"
   ]
  },
  {
   "cell_type": "code",
   "execution_count": 39,
   "metadata": {},
   "outputs": [
    {
     "data": {
      "image/png": "[encoded data removed]",
      "text/plain": [
       "<matplotlib.figure.Figure at 0x1c91b940f28>"
      ]
     },
     "metadata": {},
     "output_type": "display_data"
    }
   ],
   "source": [
    "lda_stability = pickle.load(open('lda_tfidf_stability.pkl','rb'))\n",
    "mean_stability = [np.array(lda_stability[i]).mean() for i in topicnums[:-1]]\n",
    "\n",
    "with sns.axes_style(\"darkgrid\"):\n",
    "    x = topicnums[:-1]\n",
    "    y = mean_stability\n",
    "    plt.plot(x,y,label='Mean overlap')\n",
    "    plt.xlim([1, 100])\n",
    "    plt.ylim([0, 1])\n",
    "    plt.xlabel('Number of topics')\n",
    "    plt.ylabel('Average Jaccard similarity')    \n",
    "    plt.legend()    \n",
    "    plt.show()"
   ]
  },
  {
   "cell_type": "code",
   "execution_count": 45,
   "metadata": {},
   "outputs": [
    {
     "name": "stderr",
     "output_type": "stream",
     "text": [
      "C:\\Users\\rimo\\Anaconda3\\lib\\site-packages\\ipykernel_launcher.py:8: SettingWithCopyWarning: \n",
      "A value is trying to be set on a copy of a slice from a DataFrame\n",
      "\n",
      "See the caveats in the documentation: http://pandas.pydata.org/pandas-docs/stable/indexing.html#indexing-view-versus-copy\n",
      "  \n"
     ]
    }
   ],
   "source": [
    "reviews['predictionTfidf'] = 10\n",
    "tokens = tokenizer.tokenize(reviews.reviewText[0].lower())\n",
    "stopped_tokens = [token for token in tokens if not token in merged_stopwords]\n",
    "stemmed_tokens = [sb_stemmer.stem(token) for token in stopped_tokens]\n",
    "bow_vector = texts_dict.doc2bow(stemmed_tokens)\n",
    "# transform into LDA space\n",
    "lda_vector = ldamodels_tfidf[10][bow_vector]\n",
    "reviews.predictionTfidf[0] = sorted(lda_vector, key=lambda item: item[1])[-1][0]"
   ]
  },
  {
   "cell_type": "code",
   "execution_count": 46,
   "metadata": {},
   "outputs": [
    {
     "name": "stdout",
     "output_type": "stream",
     "text": [
      "7\n"
     ]
    }
   ],
   "source": [
    "print (reviews.predictionTfidf[0])"
   ]
  },
  {
   "cell_type": "code",
   "execution_count": 48,
   "metadata": {},
   "outputs": [
    {
     "name": "stderr",
     "output_type": "stream",
     "text": [
      "C:\\Users\\rimo\\Anaconda3\\lib\\site-packages\\ipykernel_launcher.py:11: SettingWithCopyWarning: \n",
      "A value is trying to be set on a copy of a slice from a DataFrame\n",
      "\n",
      "See the caveats in the documentation: http://pandas.pydata.org/pandas-docs/stable/indexing.html#indexing-view-versus-copy\n",
      "  # This is added back by InteractiveShellApp.init_path()\n"
     ]
    }
   ],
   "source": [
    "reviews['predictionTfidf'] = 10\n",
    "for r in range(50000):\n",
    "    doc = reviews.reviewText[r]\n",
    "    if type(doc) is str:\n",
    "        tokens = tokenizer.tokenize(doc.lower())\n",
    "        stopped_tokens = [token for token in tokens if not token in merged_stopwords]\n",
    "        stemmed_tokens = [sb_stemmer.stem(token) for token in stopped_tokens]\n",
    "        bow_vector = texts_dict.doc2bow(stemmed_tokens)\n",
    "        # transform into LDA space\n",
    "        lda_vector = ldamodels_tfidf[10][bow_vector]\n",
    "        reviews.predictionTfidf[r] = sorted(lda_vector, key=lambda item: item[1])[-1][0]"
   ]
  },
  {
   "cell_type": "code",
   "execution_count": 49,
   "metadata": {},
   "outputs": [],
   "source": [
    "reviews.to_csv('reviews_bow_prediction.csv')"
   ]
  },
  {
   "cell_type": "markdown",
   "metadata": {},
   "source": [
    "# Model evaluation"
   ]
  },
  {
   "cell_type": "code",
   "execution_count": 73,
   "metadata": {},
   "outputs": [],
   "source": [
    "def intra_inter(lda_model, dictionary, test_docs, num_pairs=10000):\n",
    "    \n",
    "    # Split each test document into two halves and compute topics for each half\n",
    "    part1 = [lda_model[tfidf[dictionary.doc2bow(tokens[:int(len(tokens)/2)])]] for tokens in test_docs]\n",
    "    part2 = [lda_model[tfidf[dictionary.doc2bow(tokens[int(len(tokens)/2):])]] for tokens in test_docs]   \n",
    "    \n",
    "    # Compute topic distribution similarities using cosine similarity\n",
    "    \n",
    "    # print(\"Average cosine similarity between corresponding parts (higher is better):\")\n",
    "    corresp_parts = np.mean([gensim.matutils.cossim(p1, p2) for p1, p2 in zip(part1, part2)])\n",
    "\n",
    "    # print(\"Average cosine similarity between 10,000 random parts (lower is better):\")    \n",
    "    random.seed(42)\n",
    "    random_pairs = np.random.randint(0, len(test_docs), size=(num_pairs, 2))\n",
    "    random_parts = np.mean([gensim.matutils.cossim(part1[i[0]], part2[i[1]]) for i in random_pairs])\n",
    "    \n",
    "    return corresp_parts, random_parts"
   ]
  },
  {
   "cell_type": "code",
   "execution_count": 75,
   "metadata": {},
   "outputs": [
    {
     "name": "stdout",
     "output_type": "stream",
     "text": [
      "LDA-BOW results:\n"
     ]
    },
    {
     "data": {
      "text/plain": [
       "(0.57717808120326, 0.30253227991187587)"
      ]
     },
     "execution_count": 75,
     "metadata": {},
     "output_type": "execute_result"
    }
   ],
   "source": [
    "print(\"LDA-BOW results:\")\n",
    "intra_inter(ldamodels_bow[10],texts_dict,texts)"
   ]
  },
  {
   "cell_type": "code",
   "execution_count": 76,
   "metadata": {},
   "outputs": [
    {
     "name": "stdout",
     "output_type": "stream",
     "text": [
      "LDA-TFIDF results:\n"
     ]
    },
    {
     "data": {
      "text/plain": [
       "(0.6145803706659262, 0.41381271613214266)"
      ]
     },
     "execution_count": 76,
     "metadata": {},
     "output_type": "execute_result"
    }
   ],
   "source": [
    "print(\"LDA-TFIDF results:\")\n",
    "intra_inter(ldamodels_tfidf[10],texts_dict,texts)"
   ]
  },
  {
   "cell_type": "code",
   "execution_count": 53,
   "metadata": {},
   "outputs": [
    {
     "data": {
      "text/plain": [
       "[(0,\n",
       "  '0.018*\"fit\" + 0.010*\"comfort\" + 0.009*\"pillow\" + 0.008*\"shoe\" + 0.008*\"top\" + 0.008*\"side\" + 0.008*\"size\" + 0.007*\"put\" + 0.007*\"littl\" + 0.007*\"around\" + 0.007*\"nice\" + 0.007*\"bed\" + 0.007*\"back\" + 0.006*\"also\" + 0.006*\"cover\" + 0.006*\"bit\" + 0.005*\"feel\" + 0.005*\"perfect\" + 0.005*\"floor\" + 0.005*\"wear\" + 0.005*\"need\" + 0.005*\"hold\" + 0.005*\"feet\" + 0.005*\"place\" + 0.005*\"enough\" + 0.005*\"easi\" + 0.004*\"bottom\" + 0.004*\"room\" + 0.004*\"made\" + 0.004*\"hang\" + 0.004*\"assembl\" + 0.004*\"go\" + 0.004*\"pad\" + 0.004*\"sheet\" + 0.004*\"keep\" + 0.004*\"way\" + 0.004*\"cute\" + 0.004*\"even\" + 0.004*\"right\" + 0.004*\"support\" + 0.004*\"roll\" + 0.004*\"mat\" + 0.004*\"plastic\" + 0.003*\"hole\" + 0.003*\"tight\" + 0.003*\"wide\" + 0.003*\"leg\" + 0.003*\"mold\" + 0.003*\"small\" + 0.003*\"sleep\"'),\n",
       " (1,\n",
       "  '0.017*\"unit\" + 0.012*\"batteri\" + 0.012*\"camera\" + 0.011*\"power\" + 0.011*\"cabl\" + 0.010*\"drive\" + 0.010*\"set\" + 0.010*\"sound\" + 0.009*\"need\" + 0.009*\"devic\" + 0.009*\"connect\" + 0.008*\"plug\" + 0.008*\"tv\" + 0.007*\"charg\" + 0.007*\"usb\" + 0.007*\"2\" + 0.007*\"comput\" + 0.006*\"fan\" + 0.006*\"instal\" + 0.006*\"speaker\" + 0.006*\"easi\" + 0.006*\"also\" + 0.005*\"3\" + 0.005*\"1\" + 0.005*\"run\" + 0.005*\"mattress\" + 0.005*\"featur\" + 0.005*\"light\" + 0.005*\"control\" + 0.005*\"system\" + 0.004*\"turn\" + 0.004*\"remot\" + 0.004*\"qualiti\" + 0.004*\"cord\" + 0.004*\"room\" + 0.004*\"adapt\" + 0.004*\"4\" + 0.004*\"port\" + 0.004*\"high\" + 0.004*\"problem\" + 0.004*\"phone\" + 0.004*\"price\" + 0.004*\"speed\" + 0.004*\"button\" + 0.004*\"two\" + 0.004*\"wire\" + 0.003*\"slice\" + 0.003*\"memori\" + 0.003*\"digit\" + 0.003*\"play\"'),\n",
       " (2,\n",
       "  '0.026*\"clean\" + 0.019*\"water\" + 0.009*\"wash\" + 0.008*\"dri\" + 0.007*\"ice\" + 0.007*\"easi\" + 0.007*\"hair\" + 0.007*\"also\" + 0.007*\"heat\" + 0.006*\"hot\" + 0.006*\"even\" + 0.006*\"keep\" + 0.006*\"tri\" + 0.006*\"dishwash\" + 0.005*\"iron\" + 0.005*\"glass\" + 0.005*\"much\" + 0.005*\"drink\" + 0.005*\"littl\" + 0.005*\"feel\" + 0.005*\"bottl\" + 0.005*\"put\" + 0.005*\"smell\" + 0.005*\"need\" + 0.005*\"first\" + 0.005*\"towel\" + 0.004*\"day\" + 0.004*\"hand\" + 0.004*\"kitchen\" + 0.004*\"leav\" + 0.004*\"bowl\" + 0.004*\"pour\" + 0.004*\"steam\" + 0.004*\"dish\" + 0.004*\"contain\" + 0.004*\"oven\" + 0.004*\"go\" + 0.004*\"machin\" + 0.004*\"recommend\" + 0.004*\"quick\" + 0.003*\"long\" + 0.003*\"spoon\" + 0.003*\"job\" + 0.003*\"still\" + 0.003*\"skin\" + 0.003*\"take\" + 0.003*\"everi\" + 0.003*\"cream\" + 0.003*\"thing\" + 0.003*\"two\"'),\n",
       " (3,\n",
       "  '0.022*\"size\" + 0.022*\"cup\" + 0.022*\"nice\" + 0.016*\"set\" + 0.015*\"qualiti\" + 0.015*\"small\" + 0.014*\"perfect\" + 0.013*\"littl\" + 0.012*\"made\" + 0.012*\"price\" + 0.010*\"fit\" + 0.010*\"handl\" + 0.010*\"recommend\" + 0.009*\"larg\" + 0.009*\"much\" + 0.008*\"bought\" + 0.008*\"easi\" + 0.008*\"steel\" + 0.008*\"stainless\" + 0.008*\"sturdi\" + 0.007*\"measur\" + 0.007*\"gift\" + 0.007*\"seem\" + 0.007*\"mug\" + 0.007*\"hold\" + 0.007*\"heavi\" + 0.007*\"34\" + 0.007*\"piec\" + 0.007*\"plastic\" + 0.007*\"big\" + 0.007*\"bit\" + 0.007*\"high\" + 0.007*\"pretti\" + 0.006*\"expect\" + 0.006*\"need\" + 0.006*\"enough\" + 0.006*\"long\" + 0.006*\"smaller\" + 0.005*\"larger\" + 0.005*\"purchas\" + 0.005*\"better\" + 0.005*\"feel\" + 0.005*\"buy\" + 0.005*\"design\" + 0.005*\"metal\" + 0.005*\"also\" + 0.005*\"lid\" + 0.005*\"weight\" + 0.004*\"kitchen\" + 0.004*\"bowl\"'),\n",
       " (4,\n",
       "  '0.018*\"cook\" + 0.013*\"vacuum\" + 0.012*\"bag\" + 0.011*\"food\" + 0.011*\"case\" + 0.009*\"easi\" + 0.009*\"open\" + 0.009*\"need\" + 0.008*\"hold\" + 0.007*\"keep\" + 0.007*\"lid\" + 0.007*\"handl\" + 0.006*\"put\" + 0.006*\"space\" + 0.006*\"also\" + 0.006*\"thing\" + 0.006*\"knife\" + 0.006*\"top\" + 0.006*\"plastic\" + 0.006*\"take\" + 0.006*\"small\" + 0.006*\"hand\" + 0.005*\"cover\" + 0.005*\"design\" + 0.005*\"come\" + 0.005*\"easili\" + 0.005*\"want\" + 0.005*\"place\" + 0.004*\"insid\" + 0.004*\"knive\" + 0.004*\"keyboard\" + 0.004*\"player\" + 0.004*\"kitchen\" + 0.004*\"two\" + 0.004*\"button\" + 0.004*\"littl\" + 0.004*\"bottom\" + 0.004*\"storag\" + 0.004*\"side\" + 0.004*\"cup\" + 0.004*\"room\" + 0.004*\"appl\" + 0.004*\"store\" + 0.004*\"headphon\" + 0.004*\"set\" + 0.004*\"tray\" + 0.004*\"item\" + 0.004*\"enough\" + 0.004*\"way\" + 0.004*\"perfect\"'),\n",
       " (5,\n",
       "  '0.039*\"pot\" + 0.029*\"color\" + 0.025*\"tea\" + 0.023*\"maker\" + 0.017*\"rice\" + 0.013*\"grill\" + 0.012*\"cooker\" + 0.011*\"coat\" + 0.010*\"stick\" + 0.010*\"black\" + 0.009*\"red\" + 0.009*\"canon\" + 0.009*\"light\" + 0.008*\"cast\" + 0.008*\"cookwar\" + 0.008*\"finish\" + 0.007*\"soup\" + 0.007*\"green\" + 0.007*\"non\" + 0.007*\"espresso\" + 0.007*\"jar\" + 0.007*\"eye\" + 0.007*\"easi\" + 0.007*\"brew\" + 0.006*\"even\" + 0.006*\"top\" + 0.006*\"spice\" + 0.006*\"beauti\" + 0.006*\"white\" + 0.006*\"paint\" + 0.006*\"pepper\" + 0.006*\"skillet\" + 0.005*\"dark\" + 0.005*\"nice\" + 0.005*\"season\" + 0.005*\"perfect\" + 0.005*\"also\" + 0.005*\"flour\" + 0.005*\"remov\" + 0.005*\"recommend\" + 0.005*\"surfac\" + 0.005*\"chocol\" + 0.004*\"egg\" + 0.004*\"want\" + 0.004*\"polish\" + 0.004*\"nail\" + 0.004*\"appli\" + 0.004*\"tri\" + 0.004*\"banana\" + 0.004*\"lid\"'),\n",
       " (6,\n",
       "  '0.038*\"coffe\" + 0.011*\"bake\" + 0.010*\"card\" + 0.009*\"screen\" + 0.008*\"video\" + 0.008*\"len\" + 0.008*\"watch\" + 0.008*\"take\" + 0.008*\"pictur\" + 0.007*\"review\" + 0.007*\"machin\" + 0.007*\"want\" + 0.007*\"read\" + 0.007*\"first\" + 0.007*\"tri\" + 0.007*\"glass\" + 0.006*\"press\" + 0.006*\"see\" + 0.005*\"grinder\" + 0.005*\"softwar\" + 0.005*\"even\" + 0.005*\"instruct\" + 0.005*\"ground\" + 0.005*\"photo\" + 0.005*\"go\" + 0.005*\"second\" + 0.004*\"still\" + 0.004*\"imag\" + 0.004*\"also\" + 0.004*\"sharp\" + 0.004*\"thing\" + 0.004*\"problem\" + 0.004*\"bean\" + 0.004*\"pc\" + 0.004*\"easi\" + 0.004*\"say\" + 0.004*\"minut\" + 0.004*\"record\" + 0.004*\"took\" + 0.003*\"shot\" + 0.003*\"much\" + 0.003*\"better\" + 0.003*\"lot\" + 0.003*\"mani\" + 0.003*\"know\" + 0.003*\"shoot\" + 0.003*\"come\" + 0.003*\"littl\" + 0.003*\"brown\" + 0.003*\"got\"'),\n",
       " (7,\n",
       "  '0.020*\"order\" + 0.019*\"price\" + 0.018*\"bought\" + 0.017*\"purchas\" + 0.014*\"buy\" + 0.013*\"amazon\" + 0.013*\"perfect\" + 0.013*\"color\" + 0.012*\"got\" + 0.011*\"fit\" + 0.010*\"size\" + 0.010*\"item\" + 0.009*\"year\" + 0.009*\"ship\" + 0.009*\"day\" + 0.008*\"happi\" + 0.008*\"qualiti\" + 0.008*\"arriv\" + 0.007*\"go\" + 0.007*\"anoth\" + 0.007*\"wear\" + 0.007*\"5\" + 0.007*\"light\" + 0.007*\"last\" + 0.007*\"recommend\" + 0.007*\"2\" + 0.006*\"want\" + 0.006*\"made\" + 0.006*\"came\" + 0.006*\"nice\" + 0.005*\"much\" + 0.005*\"review\" + 0.005*\"receiv\" + 0.005*\"expect\" + 0.005*\"store\" + 0.005*\"still\" + 0.004*\"first\" + 0.004*\"month\" + 0.004*\"exact\" + 0.004*\"new\" + 0.004*\"old\" + 0.004*\"beauti\" + 0.004*\"warm\" + 0.004*\"thank\" + 0.004*\"packag\" + 0.004*\"pleas\" + 0.004*\"two\" + 0.004*\"box\" + 0.004*\"3\" + 0.004*\"even\"'),\n",
       " (8,\n",
       "  '0.023*\"pan\" + 0.015*\"filter\" + 0.014*\"buy\" + 0.014*\"year\" + 0.010*\"better\" + 0.009*\"much\" + 0.009*\"money\" + 0.008*\"price\" + 0.008*\"thing\" + 0.007*\"worth\" + 0.007*\"best\" + 0.007*\"even\" + 0.007*\"1\" + 0.007*\"go\" + 0.006*\"bought\" + 0.006*\"cost\" + 0.006*\"never\" + 0.006*\"grind\" + 0.006*\"2\" + 0.006*\"tri\" + 0.006*\"brand\" + 0.006*\"new\" + 0.006*\"replac\" + 0.006*\"last\" + 0.006*\"tast\" + 0.005*\"month\" + 0.005*\"say\" + 0.005*\"know\" + 0.005*\"expens\" + 0.005*\"everi\" + 0.005*\"differ\" + 0.005*\"oven\" + 0.005*\"3\" + 0.005*\"review\" + 0.005*\"think\" + 0.005*\"qualiti\" + 0.005*\"ever\" + 0.005*\"less\" + 0.004*\"spend\" + 0.004*\"want\" + 0.004*\"old\" + 0.004*\"save\" + 0.004*\"high\" + 0.004*\"toaster\" + 0.004*\"far\" + 0.004*\"fri\" + 0.004*\"way\" + 0.004*\"model\" + 0.004*\"pay\" + 0.004*\"wast\"'),\n",
       " (9,\n",
       "  '0.014*\"34\" + 0.013*\"review\" + 0.009*\"back\" + 0.009*\"bread\" + 0.008*\"problem\" + 0.008*\"return\" + 0.007*\"amazon\" + 0.007*\"updat\" + 0.006*\"replac\" + 0.006*\"star\" + 0.006*\"first\" + 0.006*\"scale\" + 0.005*\"year\" + 0.005*\"wireless\" + 0.005*\"music\" + 0.005*\"new\" + 0.005*\"still\" + 0.005*\"custom\" + 0.005*\"servic\" + 0.005*\"receiv\" + 0.005*\"blade\" + 0.005*\"tri\" + 0.005*\"two\" + 0.005*\"day\" + 0.005*\"purchas\" + 0.005*\"got\" + 0.005*\"seem\" + 0.004*\"issu\" + 0.004*\"month\" + 0.004*\"go\" + 0.004*\"call\" + 0.004*\"5\" + 0.004*\"boil\" + 0.004*\"2\" + 0.004*\"kettl\" + 0.004*\"even\" + 0.004*\"set\" + 0.004*\"ipod\" + 0.004*\"compani\" + 0.004*\"sinc\" + 0.004*\"christma\" + 0.003*\"give\" + 0.003*\"see\" + 0.003*\"listen\" + 0.003*\"anoth\" + 0.003*\"right\" + 0.003*\"contact\" + 0.003*\"3\" + 0.003*\"model\" + 0.003*\"send\"')]"
      ]
     },
     "execution_count": 53,
     "metadata": {},
     "output_type": "execute_result"
    }
   ],
   "source": [
    "# For `num_topics` number of topics, return `num_words` most significant words\n",
    "ldamodels_bow[10].show_topics(num_topics=10,num_words=50)"
   ]
  },
  {
   "cell_type": "code",
   "execution_count": 56,
   "metadata": {},
   "outputs": [
    {
     "data": {
      "text/plain": [
       "[(0,\n",
       "  '0.004*\"easi\" + 0.004*\"unit\" + 0.004*\"need\" + 0.003*\"set\" + 0.003*\"price\" + 0.003*\"cabl\" + 0.003*\"2\" + 0.003*\"bought\" + 0.003*\"vacuum\" + 0.003*\"batteri\" + 0.003*\"purchas\" + 0.003*\"qualiti\" + 0.003*\"problem\" + 0.003*\"case\" + 0.003*\"year\" + 0.003*\"buy\" + 0.003*\"two\" + 0.003*\"oven\" + 0.003*\"much\" + 0.003*\"small\" + 0.003*\"want\" + 0.003*\"also\" + 0.003*\"replac\" + 0.003*\"sound\" + 0.003*\"bag\" + 0.003*\"thing\" + 0.003*\"littl\" + 0.003*\"power\" + 0.002*\"back\" + 0.002*\"perfect\" + 0.002*\"fit\" + 0.002*\"go\" + 0.002*\"item\" + 0.002*\"review\" + 0.002*\"room\" + 0.002*\"3\" + 0.002*\"nice\" + 0.002*\"1\" + 0.002*\"hold\" + 0.002*\"even\" + 0.002*\"drive\" + 0.002*\"new\" + 0.002*\"34\" + 0.002*\"size\" + 0.002*\"mattress\" + 0.002*\"take\" + 0.002*\"amazon\" + 0.002*\"got\" + 0.002*\"open\" + 0.002*\"put\"'),\n",
       " (1,\n",
       "  '0.055*\"cook\" + 0.054*\"pan\" + 0.027*\"knife\" + 0.020*\"knive\" + 0.016*\"rice\" + 0.014*\"bowl\" + 0.014*\"gift\" + 0.012*\"recip\" + 0.011*\"lid\" + 0.011*\"fruit\" + 0.010*\"cooker\" + 0.010*\"boil\" + 0.009*\"hanger\" + 0.008*\"pour\" + 0.007*\"meal\" + 0.006*\"organ\" + 0.006*\"soup\" + 0.006*\"stack\" + 0.006*\"quart\" + 0.006*\"easi\" + 0.006*\"skillet\" + 0.006*\"sharp\" + 0.005*\"dispens\" + 0.005*\"sandwich\" + 0.005*\"spout\" + 0.005*\"lunch\" + 0.005*\"tub\" + 0.005*\"corn\" + 0.004*\"beach\" + 0.004*\"drip\" + 0.004*\"tool\" + 0.004*\"bacon\" + 0.004*\"fork\" + 0.004*\"chicken\" + 0.004*\"tripod\" + 0.004*\"perfect\" + 0.004*\"made\" + 0.003*\"thank\" + 0.003*\"twin\" + 0.003*\"fit\" + 0.003*\"compact\" + 0.003*\"rack\" + 0.003*\"sauc\" + 0.003*\"bought\" + 0.003*\"chill\" + 0.003*\"nonstick\" + 0.003*\"threw\" + 0.003*\"handl\" + 0.003*\"cereal\" + 0.003*\"straw\"'),\n",
       " (2,\n",
       "  '0.060*\"coffe\" + 0.016*\"cup\" + 0.014*\"tray\" + 0.011*\"drawer\" + 0.011*\"drink\" + 0.009*\"basket\" + 0.009*\"shelv\" + 0.008*\"curtain\" + 0.008*\"garlic\" + 0.008*\"blanket\" + 0.007*\"espresso\" + 0.007*\"brew\" + 0.007*\"cupcak\" + 0.007*\"desk\" + 0.007*\"rack\" + 0.006*\"spice\" + 0.006*\"fridg\" + 0.006*\"chair\" + 0.006*\"lid\" + 0.006*\"filter\" + 0.005*\"husband\" + 0.005*\"shelf\" + 0.005*\"holder\" + 0.005*\"son\" + 0.005*\"liner\" + 0.005*\"color\" + 0.005*\"nice\" + 0.005*\"caraf\" + 0.004*\"pour\" + 0.004*\"tong\" + 0.004*\"magnet\" + 0.004*\"flaw\" + 0.004*\"rust\" + 0.004*\"topper\" + 0.004*\"perfect\" + 0.004*\"keurig\" + 0.004*\"water\" + 0.004*\"chicken\" + 0.004*\"beverag\" + 0.003*\"plate\" + 0.003*\"beater\" + 0.003*\"gift\" + 0.003*\"parti\" + 0.003*\"top\" + 0.003*\"bin\" + 0.003*\"coffeemak\" + 0.003*\"dehydr\" + 0.003*\"stain\" + 0.003*\"easi\" + 0.003*\"refriger\"'),\n",
       " (3,\n",
       "  '0.015*\"egg\" + 0.012*\"pot\" + 0.010*\"christma\" + 0.009*\"grill\" + 0.008*\"len\" + 0.008*\"hair\" + 0.007*\"suction\" + 0.006*\"sharpen\" + 0.006*\"blade\" + 0.006*\"gift\" + 0.006*\"attract\" + 0.006*\"potato\" + 0.006*\"fri\" + 0.005*\"heater\" + 0.005*\"glass\" + 0.005*\"french\" + 0.005*\"sharp\" + 0.005*\"balanc\" + 0.004*\"pet\" + 0.004*\"heat\" + 0.004*\"cup\" + 0.004*\"imag\" + 0.004*\"heavi\" + 0.004*\"nice\" + 0.004*\"ray\" + 0.004*\"clean\" + 0.004*\"sturdi\" + 0.004*\"cast\" + 0.003*\"rod\" + 0.003*\"fun\" + 0.003*\"warp\" + 0.003*\"easi\" + 0.003*\"comfi\" + 0.003*\"perfect\" + 0.003*\"ring\" + 0.003*\"ware\" + 0.003*\"hold\" + 0.003*\"set\" + 0.003*\"edg\" + 0.003*\"beer\" + 0.003*\"hot\" + 0.003*\"littl\" + 0.003*\"holder\" + 0.003*\"assembl\" + 0.003*\"light\" + 0.003*\"round\" + 0.003*\"stone\" + 0.003*\"made\" + 0.003*\"click\" + 0.003*\"3d\"'),\n",
       " (4,\n",
       "  '0.025*\"maker\" + 0.012*\"juic\" + 0.011*\"decor\" + 0.009*\"juicer\" + 0.008*\"shower\" + 0.007*\"radio\" + 0.007*\"filter\" + 0.007*\"bass\" + 0.006*\"thermo\" + 0.006*\"canist\" + 0.005*\"cast\" + 0.004*\"delici\" + 0.004*\"lemon\" + 0.004*\"couch\" + 0.004*\"enjoy\" + 0.004*\"coaster\" + 0.004*\"color\" + 0.004*\"strawberri\" + 0.003*\"oz\" + 0.003*\"ounc\" + 0.003*\"reset\" + 0.003*\"drinker\" + 0.003*\"allergi\" + 0.003*\"sleek\" + 0.003*\"exchang\" + 0.003*\"beep\" + 0.003*\"buy\" + 0.003*\"graphic\" + 0.003*\"alot\" + 0.003*\"didnt\" + 0.003*\"raw\" + 0.003*\"price\" + 0.003*\"clever\" + 0.003*\"feather\" + 0.003*\"clean\" + 0.003*\"sister\" + 0.003*\"skirt\" + 0.003*\"decker\" + 0.003*\"annoy\" + 0.003*\"roomi\" + 0.003*\"sear\" + 0.003*\"nice\" + 0.003*\"cant\" + 0.003*\"attract\" + 0.003*\"fantast\" + 0.002*\"rib\" + 0.002*\"circl\" + 0.002*\"pulp\" + 0.002*\"easi\" + 0.002*\"bought\"'),\n",
       " (5,\n",
       "  '0.042*\"mug\" + 0.029*\"ipad\" + 0.021*\"bean\" + 0.020*\"waffl\" + 0.017*\"steamer\" + 0.017*\"thermomet\" + 0.016*\"dough\" + 0.011*\"bra\" + 0.011*\"chocol\" + 0.011*\"cd\" + 0.011*\"stopper\" + 0.010*\"peel\" + 0.009*\"fat\" + 0.009*\"toilet\" + 0.008*\"mouth\" + 0.008*\"hung\" + 0.007*\"book\" + 0.007*\"spinner\" + 0.007*\"oxo\" + 0.007*\"craft\" + 0.007*\"leftov\" + 0.007*\"trash\" + 0.007*\"muffin\" + 0.006*\"garbag\" + 0.006*\"serv\" + 0.006*\"warmer\" + 0.006*\"galaxi\" + 0.006*\"probe\" + 0.006*\"peeler\" + 0.006*\"shallow\" + 0.005*\"brown\" + 0.005*\"android\" + 0.005*\"joy\" + 0.005*\"arthriti\" + 0.005*\"versatil\" + 0.005*\"slipper\" + 0.005*\"peanut\" + 0.005*\"footprint\" + 0.005*\"scraper\" + 0.005*\"magazin\" + 0.004*\"pouch\" + 0.004*\"flame\" + 0.004*\"accuraci\" + 0.004*\"fit\" + 0.004*\"hey\" + 0.004*\"http\" + 0.004*\"bras\" + 0.004*\"sturdi\" + 0.004*\"compromis\" + 0.004*\"bang\"'),\n",
       " (6,\n",
       "  '0.016*\"jar\" + 0.012*\"keyboard\" + 0.012*\"ice\" + 0.011*\"chop\" + 0.009*\"cube\" + 0.009*\"guest\" + 0.008*\"game\" + 0.008*\"steel\" + 0.008*\"stainless\" + 0.008*\"vacuum\" + 0.008*\"ear\" + 0.008*\"butter\" + 0.007*\"shower\" + 0.007*\"frozen\" + 0.007*\"dinner\" + 0.007*\"batch\" + 0.007*\"lid\" + 0.007*\"file\" + 0.006*\"pant\" + 0.006*\"extern\" + 0.005*\"sock\" + 0.005*\"cork\" + 0.005*\"mac\" + 0.005*\"canon\" + 0.005*\"belt\" + 0.005*\"brush\" + 0.004*\"cutter\" + 0.004*\"cheapli\" + 0.004*\"crisp\" + 0.004*\"cleanup\" + 0.004*\"perfect\" + 0.004*\"breakfast\" + 0.004*\"fit\" + 0.004*\"dispos\" + 0.004*\"son\" + 0.004*\"bed\" + 0.004*\"qualiti\" + 0.003*\"turkey\" + 0.003*\"comfort\" + 0.003*\"canning\" + 0.003*\"mr\" + 0.003*\"jam\" + 0.003*\"made\" + 0.003*\"clad\" + 0.003*\"lime\" + 0.003*\"nice\" + 0.003*\"canist\" + 0.003*\"size\" + 0.003*\"funnel\" + 0.003*\"waist\"'),\n",
       " (7,\n",
       "  '0.010*\"kitchen\" + 0.008*\"clean\" + 0.008*\"food\" + 0.006*\"water\" + 0.005*\"sheet\" + 0.005*\"tea\" + 0.005*\"wash\" + 0.005*\"dish\" + 0.005*\"bread\" + 0.004*\"cup\" + 0.004*\"pot\" + 0.004*\"towel\" + 0.004*\"nice\" + 0.004*\"bed\" + 0.004*\"counter\" + 0.004*\"easi\" + 0.004*\"shoe\" + 0.004*\"tabl\" + 0.004*\"size\" + 0.004*\"stick\" + 0.004*\"keep\" + 0.003*\"pillow\" + 0.003*\"perfect\" + 0.003*\"much\" + 0.003*\"put\" + 0.003*\"hot\" + 0.003*\"littl\" + 0.003*\"dri\" + 0.003*\"top\" + 0.003*\"feel\" + 0.003*\"meat\" + 0.003*\"made\" + 0.003*\"cut\" + 0.003*\"bought\" + 0.003*\"handl\" + 0.003*\"iron\" + 0.003*\"glass\" + 0.003*\"even\" + 0.003*\"also\" + 0.003*\"need\" + 0.003*\"purchas\" + 0.003*\"color\" + 0.003*\"buy\" + 0.003*\"year\" + 0.003*\"steam\" + 0.003*\"thing\" + 0.003*\"recommend\" + 0.003*\"contain\" + 0.003*\"plastic\" + 0.003*\"hand\"'),\n",
       " (8,\n",
       "  '0.021*\"camera\" + 0.013*\"spoon\" + 0.012*\"tast\" + 0.011*\"scale\" + 0.010*\"slice\" + 0.008*\"timer\" + 0.008*\"closet\" + 0.008*\"memori\" + 0.008*\"scoop\" + 0.008*\"cooki\" + 0.007*\"blender\" + 0.007*\"cake\" + 0.007*\"appl\" + 0.006*\"chees\" + 0.006*\"pizza\" + 0.006*\"pepper\" + 0.006*\"cream\" + 0.006*\"popcorn\" + 0.005*\"microwav\" + 0.005*\"ice\" + 0.005*\"smoothi\" + 0.005*\"rack\" + 0.005*\"salt\" + 0.004*\"flash\" + 0.004*\"laundri\" + 0.004*\"noisi\" + 0.004*\"pancak\" + 0.004*\"photo\" + 0.004*\"grate\" + 0.004*\"bamboo\" + 0.003*\"veget\" + 0.003*\"shot\" + 0.003*\"mom\" + 0.003*\"homemad\" + 0.003*\"carrot\" + 0.003*\"banana\" + 0.003*\"onion\" + 0.003*\"collaps\" + 0.003*\"easi\" + 0.003*\"smoke\" + 0.003*\"wed\" + 0.003*\"blend\" + 0.003*\"print\" + 0.003*\"grater\" + 0.003*\"flavor\" + 0.003*\"filter\" + 0.003*\"coars\" + 0.003*\"core\" + 0.003*\"batter\" + 0.003*\"uncomfort\"'),\n",
       " (9,\n",
       "  '0.033*\"bake\" + 0.017*\"wine\" + 0.014*\"cute\" + 0.014*\"bowl\" + 0.012*\"toast\" + 0.011*\"bedroom\" + 0.011*\"kindl\" + 0.009*\"daughter\" + 0.007*\"chef\" + 0.007*\"tile\" + 0.006*\"stove\" + 0.006*\"holiday\" + 0.006*\"fit\" + 0.006*\"qualiti\" + 0.006*\"size\" + 0.006*\"order\" + 0.006*\"perfect\" + 0.005*\"price\" + 0.005*\"ceram\" + 0.005*\"eleg\" + 0.005*\"happi\" + 0.005*\"disk\" + 0.005*\"recommend\" + 0.005*\"arriv\" + 0.005*\"nice\" + 0.005*\"husband\" + 0.005*\"cup\" + 0.004*\"foil\" + 0.004*\"humid\" + 0.004*\"bought\" + 0.004*\"counter\" + 0.004*\"stair\" + 0.004*\"friend\" + 0.004*\"sturdier\" + 0.004*\"hub\" + 0.004*\"crock\" + 0.004*\"item\" + 0.004*\"buy\" + 0.004*\"small\" + 0.004*\"color\" + 0.004*\"expect\" + 0.004*\"describ\" + 0.004*\"prompt\" + 0.004*\"set\" + 0.004*\"purchas\" + 0.004*\"made\" + 0.004*\"got\" + 0.004*\"deliveri\" + 0.004*\"veggi\" + 0.003*\"soda\"')]"
      ]
     },
     "execution_count": 56,
     "metadata": {},
     "output_type": "execute_result"
    }
   ],
   "source": [
    "ldamodels_tfidf[10].show_topics(num_topics=10,num_words=50)"
   ]
  },
  {
   "cell_type": "code",
   "execution_count": 57,
   "metadata": {},
   "outputs": [
    {
     "data": {
      "text/plain": [
       "<matplotlib.axes._subplots.AxesSubplot at 0x1c91a468cf8>"
      ]
     },
     "execution_count": 57,
     "metadata": {},
     "output_type": "execute_result"
    },
    {
     "data": {
      "image/png": "[encoded data removed]",
      "text/plain": [
       "<matplotlib.figure.Figure at 0x1c91a4686d8>"
      ]
     },
     "metadata": {},
     "output_type": "display_data"
    }
   ],
   "source": [
    "plt.style.use('ggplot')\n",
    "\n",
    "automotive = reviews[reviews['tag']=='automotive']\n",
    "automotive['prediction'].hist()"
   ]
  },
  {
   "cell_type": "code",
   "execution_count": 58,
   "metadata": {},
   "outputs": [
    {
     "data": {
      "text/plain": [
       "<matplotlib.axes._subplots.AxesSubplot at 0x1c91a853780>"
      ]
     },
     "execution_count": 58,
     "metadata": {},
     "output_type": "execute_result"
    },
    {
     "data": {
      "image/png": "[encoded data removed]",
      "text/plain": [
       "<matplotlib.figure.Figure at 0x1c91b868710>"
      ]
     },
     "metadata": {},
     "output_type": "display_data"
    }
   ],
   "source": [
    "beauty = reviews[reviews['tag']=='beauty']\n",
    "beauty['prediction'].hist()"
   ]
  },
  {
   "cell_type": "code",
   "execution_count": 59,
   "metadata": {},
   "outputs": [
    {
     "data": {
      "text/plain": [
       "<matplotlib.axes._subplots.AxesSubplot at 0x1c91a46dfd0>"
      ]
     },
     "execution_count": 59,
     "metadata": {},
     "output_type": "execute_result"
    },
    {
     "data": {
      "image/png": "[encoded data removed]",
      "text/plain": [
       "<matplotlib.figure.Figure at 0x1c91c20ba58>"
      ]
     },
     "metadata": {},
     "output_type": "display_data"
    }
   ],
   "source": [
    "clothingShoesJewelry = reviews[reviews['tag']=='clothingShoesJewelry']\n",
    "clothingShoesJewelry['prediction'].hist()"
   ]
  },
  {
   "cell_type": "code",
   "execution_count": 60,
   "metadata": {},
   "outputs": [
    {
     "data": {
      "text/plain": [
       "<matplotlib.axes._subplots.AxesSubplot at 0x1c91a4915f8>"
      ]
     },
     "execution_count": 60,
     "metadata": {},
     "output_type": "execute_result"
    },
    {
     "data": {
      "image/png": "[encoded data removed]",
      "text/plain": [
       "<matplotlib.figure.Figure at 0x1c91db178d0>"
      ]
     },
     "metadata": {},
     "output_type": "display_data"
    }
   ],
   "source": [
    "electronics = reviews[reviews['tag']=='electronics']\n",
    "electronics['prediction'].hist()"
   ]
  },
  {
   "cell_type": "code",
   "execution_count": 61,
   "metadata": {},
   "outputs": [
    {
     "data": {
      "text/plain": [
       "<matplotlib.axes._subplots.AxesSubplot at 0x1c91db246d8>"
      ]
     },
     "execution_count": 61,
     "metadata": {},
     "output_type": "execute_result"
    },
    {
     "data": {
      "image/png": "[encoded data removed]",
      "text/plain": [
       "<matplotlib.figure.Figure at 0x1c91c336c88>"
      ]
     },
     "metadata": {},
     "output_type": "display_data"
    }
   ],
   "source": [
    "homeKitchen = reviews[reviews['tag']=='homeKitchen']\n",
    "homeKitchen['prediction'].hist()"
   ]
  },
  {
   "cell_type": "code",
   "execution_count": 77,
   "metadata": {},
   "outputs": [
    {
     "data": {
      "text/plain": [
       "<matplotlib.axes._subplots.AxesSubplot at 0x1c91a73f278>"
      ]
     },
     "execution_count": 77,
     "metadata": {},
     "output_type": "execute_result"
    },
    {
     "data": {
      "image/png": "[encoded data removed]",
      "text/plain": [
       "<matplotlib.figure.Figure at 0x1c91a853358>"
      ]
     },
     "metadata": {},
     "output_type": "display_data"
    }
   ],
   "source": [
    "automotive['prediction'].hist()\n",
    "beauty['prediction'].hist()\n",
    "clothingShoesJewelry['prediction'].hist()\n",
    "electronics['prediction'].hist()\n",
    "homeKitchen['prediction'].hist()"
   ]
  },
  {
   "cell_type": "code",
   "execution_count": 78,
   "metadata": {},
   "outputs": [
    {
     "data": {
      "text/plain": [
       "<matplotlib.axes._subplots.AxesSubplot at 0x1c920bf39e8>"
      ]
     },
     "execution_count": 78,
     "metadata": {},
     "output_type": "execute_result"
    },
    {
     "data": {
      "image/png": "[encoded data removed]",
      "text/plain": [
       "<matplotlib.figure.Figure at 0x1c91c128860>"
      ]
     },
     "metadata": {},
     "output_type": "display_data"
    }
   ],
   "source": [
    "automotive['predictionTfidf'].hist()"
   ]
  },
  {
   "cell_type": "code",
   "execution_count": 79,
   "metadata": {},
   "outputs": [
    {
     "data": {
      "text/plain": [
       "<matplotlib.axes._subplots.AxesSubplot at 0x1c924126160>"
      ]
     },
     "execution_count": 79,
     "metadata": {},
     "output_type": "execute_result"
    },
    {
     "data": {
      "image/png": "[encoded data removed]",
      "text/plain": [
       "<matplotlib.figure.Figure at 0x1c924273208>"
      ]
     },
     "metadata": {},
     "output_type": "display_data"
    }
   ],
   "source": [
    "beauty['predictionTfidf'].hist()"
   ]
  },
  {
   "cell_type": "code",
   "execution_count": 80,
   "metadata": {},
   "outputs": [
    {
     "data": {
      "text/plain": [
       "<matplotlib.axes._subplots.AxesSubplot at 0x1c920212278>"
      ]
     },
     "execution_count": 80,
     "metadata": {},
     "output_type": "execute_result"
    },
    {
     "data": {
      "image/png": "[encoded data removed]",
      "text/plain": [
       "<matplotlib.figure.Figure at 0x1c9202283c8>"
      ]
     },
     "metadata": {},
     "output_type": "display_data"
    }
   ],
   "source": [
    "clothingShoesJewelry['predictionTfidf'].hist()"
   ]
  },
  {
   "cell_type": "code",
   "execution_count": 81,
   "metadata": {},
   "outputs": [
    {
     "data": {
      "text/plain": [
       "<matplotlib.axes._subplots.AxesSubplot at 0x1c924246978>"
      ]
     },
     "execution_count": 81,
     "metadata": {},
     "output_type": "execute_result"
    },
    {
     "data": {
      "image/png": "[encoded data removed]",
      "text/plain": [
       "<matplotlib.figure.Figure at 0x1c920d9d0f0>"
      ]
     },
     "metadata": {},
     "output_type": "display_data"
    }
   ],
   "source": [
    "electronics['predictionTfidf'].hist()"
   ]
  },
  {
   "cell_type": "code",
   "execution_count": 82,
   "metadata": {},
   "outputs": [
    {
     "data": {
      "text/plain": [
       "<matplotlib.axes._subplots.AxesSubplot at 0x1c920d9dda0>"
      ]
     },
     "execution_count": 82,
     "metadata": {},
     "output_type": "execute_result"
    },
    {
     "data": {
      "image/png": "[encoded data removed]",
      "text/plain": [
       "<matplotlib.figure.Figure at 0x1c920d57a20>"
      ]
     },
     "metadata": {},
     "output_type": "display_data"
    }
   ],
   "source": [
    "homeKitchen['predictionTfidf'].hist()"
   ]
  },
  {
   "cell_type": "code",
   "execution_count": 272,
   "metadata": {},
   "outputs": [
    {
     "data": {
      "text/plain": [
       "<matplotlib.axes._subplots.AxesSubplot at 0x1c91da9f240>"
      ]
     },
     "execution_count": 272,
     "metadata": {},
     "output_type": "execute_result"
    },
    {
     "data": {
      "image/png": "[encoded data removed]",
      "text/plain": [
       "<matplotlib.figure.Figure at 0x1c91dad59e8>"
      ]
     },
     "metadata": {},
     "output_type": "display_data"
    }
   ],
   "source": [
    "automotive['predictionTfidf'].hist(color = \"skyblue\", ec=\"black\")\n",
    "beauty['predictionTfidf'].hist(color = \"red\", ec=\"white\")\n",
    "clothingShoesJewelry['predictionTfidf'].hist(color = \"green\", ec=\"white\")\n",
    "electronics['predictionTfidf'].hist(color = \"yellow\", ec=\"white\")\n",
    "homeKitchen['predictionTfidf'].hist(color = \"pink\", ec=\"white\")"
   ]
  },
  {
   "cell_type": "markdown",
   "metadata": {},
   "source": [
    "Querying the LDA Model"
   ]
  },
  {
   "cell_type": "code",
   "execution_count": 206,
   "metadata": {},
   "outputs": [
    {
     "name": "stdout",
     "output_type": "stream",
     "text": [
      "['ultra', 'hd', 'tv']\n"
     ]
    }
   ],
   "source": [
    "raw_query = 'Ultra HD TV'\n",
    "\n",
    "query_words = raw_query.split()\n",
    "query = []\n",
    "for word in query_words:\n",
    "    # ad-hoc reuse steps from above\n",
    "    q_tokens = tokenizer.tokenize(word.lower())\n",
    "    q_stopped_tokens = [word for word in q_tokens if not word in merged_stopwords]\n",
    "    q_stemmed_tokens = [sb_stemmer.stem(word) for word in q_stopped_tokens]\n",
    "    query.append(q_stemmed_tokens[0]) # different frome above, this is not a lists of lists!\n",
    "    \n",
    "print (query)"
   ]
  },
  {
   "cell_type": "code",
   "execution_count": 207,
   "metadata": {},
   "outputs": [],
   "source": [
    "# translate words in query to ids and frequencies. \n",
    "id2word = gensim.corpora.Dictionary()\n",
    "_ = id2word.merge_with(texts_dict) # garbage"
   ]
  },
  {
   "cell_type": "code",
   "execution_count": 208,
   "metadata": {},
   "outputs": [
    {
     "name": "stdout",
     "output_type": "stream",
     "text": [
      "[(338, 1), (845, 1), (2761, 1)]\n"
     ]
    }
   ],
   "source": [
    "# translate this document into (word, frequency) pairs\n",
    "query = id2word.doc2bow(query)\n",
    "print(query)"
   ]
  },
  {
   "cell_type": "code",
   "execution_count": 209,
   "metadata": {},
   "outputs": [
    {
     "data": {
      "text/plain": [
       "[(0, 0.025),\n",
       " (3, 0.025),\n",
       " (4, 0.025),\n",
       " (9, 0.025000371),\n",
       " (2, 0.025000859),\n",
       " (7, 0.0250024),\n",
       " (8, 0.025002602),\n",
       " (5, 0.025008768),\n",
       " (6, 0.2864322),\n",
       " (1, 0.5135528)]"
      ]
     },
     "execution_count": 209,
     "metadata": {},
     "output_type": "execute_result"
    }
   ],
   "source": [
    "a = list(sorted(ldamodels_bow[10][query], key=lambda x: x[1])) # sort by the second entry in the tuple\n",
    "a"
   ]
  },
  {
   "cell_type": "code",
   "execution_count": 210,
   "metadata": {},
   "outputs": [
    {
     "data": {
      "text/plain": [
       "'0.018*\"fit\" + 0.010*\"comfort\" + 0.009*\"pillow\" + 0.008*\"shoe\" + 0.008*\"top\" + 0.008*\"side\" + 0.008*\"size\" + 0.007*\"put\" + 0.007*\"littl\" + 0.007*\"around\"'"
      ]
     },
     "execution_count": 210,
     "metadata": {},
     "output_type": "execute_result"
    }
   ],
   "source": [
    "ldamodels_bow[10].print_topic(a[0][0]) #least related"
   ]
  },
  {
   "cell_type": "code",
   "execution_count": 211,
   "metadata": {},
   "outputs": [
    {
     "data": {
      "text/plain": [
       "'0.017*\"unit\" + 0.012*\"batteri\" + 0.012*\"camera\" + 0.011*\"power\" + 0.011*\"cabl\" + 0.010*\"drive\" + 0.010*\"set\" + 0.010*\"sound\" + 0.009*\"need\" + 0.009*\"devic\"'"
      ]
     },
     "execution_count": 211,
     "metadata": {},
     "output_type": "execute_result"
    }
   ],
   "source": [
    "ldamodels_bow[10].print_topic(a[-1][0]) #most related"
   ]
  },
  {
   "cell_type": "code",
   "execution_count": 212,
   "metadata": {},
   "outputs": [
    {
     "data": {
      "text/plain": [
       "[(1, 0.025),\n",
       " (4, 0.025),\n",
       " (6, 0.025),\n",
       " (9, 0.025),\n",
       " (5, 0.025000032),\n",
       " (2, 0.025000043),\n",
       " (8, 0.025000125),\n",
       " (7, 0.02500073),\n",
       " (3, 0.025000816),\n",
       " (0, 0.77499825)]"
      ]
     },
     "execution_count": 212,
     "metadata": {},
     "output_type": "execute_result"
    }
   ],
   "source": [
    "a = list(sorted(ldamodels_tfidf[10][query], key=lambda x: x[1])) # sort by the second entry in the tuple\n",
    "a"
   ]
  },
  {
   "cell_type": "code",
   "execution_count": 213,
   "metadata": {},
   "outputs": [
    {
     "data": {
      "text/plain": [
       "'0.055*\"cook\" + 0.054*\"pan\" + 0.027*\"knife\" + 0.020*\"knive\" + 0.016*\"rice\" + 0.014*\"bowl\" + 0.014*\"gift\" + 0.012*\"recip\" + 0.011*\"lid\" + 0.011*\"fruit\"'"
      ]
     },
     "execution_count": 213,
     "metadata": {},
     "output_type": "execute_result"
    }
   ],
   "source": [
    "ldamodels_tfidf[10].print_topic(a[0][0]) #least related"
   ]
  },
  {
   "cell_type": "code",
   "execution_count": 215,
   "metadata": {},
   "outputs": [
    {
     "data": {
      "text/plain": [
       "'0.018*\"fit\" + 0.010*\"comfort\" + 0.009*\"pillow\" + 0.008*\"shoe\" + 0.008*\"top\" + 0.008*\"side\" + 0.008*\"size\" + 0.007*\"put\" + 0.007*\"littl\" + 0.007*\"around\"'"
      ]
     },
     "execution_count": 215,
     "metadata": {},
     "output_type": "execute_result"
    }
   ],
   "source": [
    "ldamodels_bow[10].print_topic(a[-1][0]) #most related"
   ]
  },
  {
   "cell_type": "code",
   "execution_count": 214,
   "metadata": {},
   "outputs": [
    {
     "data": {
      "text/plain": [
       "'0.004*\"easi\" + 0.004*\"unit\" + 0.004*\"need\" + 0.003*\"set\" + 0.003*\"price\" + 0.003*\"cabl\" + 0.003*\"2\" + 0.003*\"bought\" + 0.003*\"vacuum\" + 0.003*\"batteri\"'"
      ]
     },
     "execution_count": 214,
     "metadata": {},
     "output_type": "execute_result"
    }
   ],
   "source": [
    "ldamodels_tfidf[10].print_topic(a[-1][0]) #most related"
   ]
  },
  {
   "cell_type": "code",
   "execution_count": 200,
   "metadata": {},
   "outputs": [
    {
     "name": "stdout",
     "output_type": "stream",
     "text": [
      "['windshield', 'washer', 'fluid']\n"
     ]
    }
   ],
   "source": [
    "raw_query = 'windshield washer fluids'\n",
    "\n",
    "query_words = raw_query.split()\n",
    "query = []\n",
    "for word in query_words:\n",
    "    # ad-hoc reuse steps from above\n",
    "    q_tokens = tokenizer.tokenize(word.lower())\n",
    "    q_stopped_tokens = [word for word in q_tokens if not word in merged_stopwords]\n",
    "    q_stemmed_tokens = [sb_stemmer.stem(word) for word in q_stopped_tokens]\n",
    "    query.append(q_stemmed_tokens[0]) # different frome above, this is not a lists of lists!\n",
    "    \n",
    "print (query)"
   ]
  },
  {
   "cell_type": "code",
   "execution_count": 201,
   "metadata": {},
   "outputs": [],
   "source": [
    "# translate words in query to ids and frequencies. \n",
    "id2word = gensim.corpora.Dictionary()\n",
    "_ = id2word.merge_with(texts_dict) # garbage"
   ]
  },
  {
   "cell_type": "code",
   "execution_count": 202,
   "metadata": {},
   "outputs": [
    {
     "name": "stdout",
     "output_type": "stream",
     "text": [
      "[(342, 1), (717, 1), (1381, 1)]\n"
     ]
    }
   ],
   "source": [
    "# translate this document into (word, frequency) pairs\n",
    "query = id2word.doc2bow(query)\n",
    "print(query)"
   ]
  },
  {
   "cell_type": "code",
   "execution_count": 203,
   "metadata": {},
   "outputs": [
    {
     "data": {
      "text/plain": [
       "[(1, 0.025),\n",
       " (3, 0.025),\n",
       " (5, 0.025),\n",
       " (6, 0.025),\n",
       " (7, 0.025),\n",
       " (4, 0.025000198),\n",
       " (0, 0.025005104),\n",
       " (8, 0.025010712),\n",
       " (9, 0.27497438),\n",
       " (2, 0.52500963)]"
      ]
     },
     "execution_count": 203,
     "metadata": {},
     "output_type": "execute_result"
    }
   ],
   "source": [
    "a = list(sorted(ldamodels_bow[10][query], key=lambda x: x[1])) # sort by the second entry in the tuple\n",
    "a"
   ]
  },
  {
   "cell_type": "code",
   "execution_count": 204,
   "metadata": {},
   "outputs": [
    {
     "data": {
      "text/plain": [
       "'0.026*\"clean\" + 0.019*\"water\" + 0.009*\"wash\" + 0.008*\"dri\" + 0.007*\"ice\" + 0.007*\"easi\" + 0.007*\"hair\" + 0.007*\"also\" + 0.007*\"heat\" + 0.006*\"hot\"'"
      ]
     },
     "execution_count": 204,
     "metadata": {},
     "output_type": "execute_result"
    }
   ],
   "source": [
    "ldamodels_bow[10].print_topic(a[-1][0]) #most related"
   ]
  },
  {
   "cell_type": "code",
   "execution_count": 205,
   "metadata": {},
   "outputs": [
    {
     "data": {
      "text/plain": [
       "'0.060*\"coffe\" + 0.016*\"cup\" + 0.014*\"tray\" + 0.011*\"drawer\" + 0.011*\"drink\" + 0.009*\"basket\" + 0.009*\"shelv\" + 0.008*\"curtain\" + 0.008*\"garlic\" + 0.008*\"blanket\"'"
      ]
     },
     "execution_count": 205,
     "metadata": {},
     "output_type": "execute_result"
    }
   ],
   "source": [
    "ldamodels_tfidf[10].print_topic(a[-1][0]) #most related"
   ]
  },
  {
   "cell_type": "code",
   "execution_count": 194,
   "metadata": {},
   "outputs": [],
   "source": [
    "raw_query = 'Formal Smart Casual Work Trousers'\n",
    "query_words = raw_query.split()\n",
    "query = []\n",
    "for word in query_words:\n",
    "    # ad-hoc reuse steps from above\n",
    "    q_tokens = tokenizer.tokenize(word.lower())\n",
    "    q_stopped_tokens = [word for word in q_tokens if not word in merged_stopwords]\n",
    "    q_stemmed_tokens = [sb_stemmer.stem(word) for word in q_stopped_tokens]\n",
    "    query.append(q_stemmed_tokens[0]) # different frome above, this is not a lists of lists!"
   ]
  },
  {
   "cell_type": "code",
   "execution_count": 195,
   "metadata": {},
   "outputs": [],
   "source": [
    "id2word = gensim.corpora.Dictionary()\n",
    "_ = id2word.merge_with(texts_dict) # garbage"
   ]
  },
  {
   "cell_type": "code",
   "execution_count": 196,
   "metadata": {},
   "outputs": [
    {
     "name": "stdout",
     "output_type": "stream",
     "text": [
      "[(2254, 1), (3463, 1)]\n"
     ]
    }
   ],
   "source": [
    "# translate this document into (word, frequency) pairs\n",
    "query = id2word.doc2bow(query)\n",
    "print (query)"
   ]
  },
  {
   "cell_type": "code",
   "execution_count": 197,
   "metadata": {},
   "outputs": [
    {
     "data": {
      "text/plain": [
       "[(0, 0.033333335),\n",
       " (2, 0.033333335),\n",
       " (5, 0.033333335),\n",
       " (7, 0.033333335),\n",
       " (8, 0.033333335),\n",
       " (9, 0.033333335),\n",
       " (6, 0.03333653),\n",
       " (4, 0.033345673),\n",
       " (1, 0.3666511),\n",
       " (3, 0.3666667)]"
      ]
     },
     "execution_count": 197,
     "metadata": {},
     "output_type": "execute_result"
    }
   ],
   "source": [
    "a = list(sorted(ldamodels_bow[10][query], key=lambda x: x[1])) # sort by the second entry in the tuple\n",
    "a"
   ]
  },
  {
   "cell_type": "code",
   "execution_count": 198,
   "metadata": {},
   "outputs": [
    {
     "data": {
      "text/plain": [
       "'0.022*\"size\" + 0.022*\"cup\" + 0.022*\"nice\" + 0.016*\"set\" + 0.015*\"qualiti\" + 0.015*\"small\" + 0.014*\"perfect\" + 0.013*\"littl\" + 0.012*\"made\" + 0.012*\"price\"'"
      ]
     },
     "execution_count": 198,
     "metadata": {},
     "output_type": "execute_result"
    }
   ],
   "source": [
    "ldamodels_bow[10].print_topic(a[-1][0]) #most related"
   ]
  },
  {
   "cell_type": "code",
   "execution_count": 199,
   "metadata": {},
   "outputs": [
    {
     "data": {
      "text/plain": [
       "'0.015*\"egg\" + 0.012*\"pot\" + 0.010*\"christma\" + 0.009*\"grill\" + 0.008*\"len\" + 0.008*\"hair\" + 0.007*\"suction\" + 0.006*\"sharpen\" + 0.006*\"blade\" + 0.006*\"gift\"'"
      ]
     },
     "execution_count": 199,
     "metadata": {},
     "output_type": "execute_result"
    }
   ],
   "source": [
    "ldamodels_tfidf[10].print_topic(a[-1][0]) #most related"
   ]
  },
  {
   "cell_type": "code",
   "execution_count": 188,
   "metadata": {},
   "outputs": [],
   "source": [
    "raw_query = 'Kitchen Sink Strainer'\n",
    "query_words = raw_query.split()\n",
    "query = []\n",
    "for word in query_words:\n",
    "    # ad-hoc reuse steps from above\n",
    "    q_tokens = tokenizer.tokenize(word.lower())\n",
    "    q_stopped_tokens = [word for word in q_tokens if not word in merged_stopwords]\n",
    "    q_stemmed_tokens = [sb_stemmer.stem(word) for word in q_stopped_tokens]\n",
    "    query.append(q_stemmed_tokens[0]) # different frome above, this is not a lists of lists!"
   ]
  },
  {
   "cell_type": "code",
   "execution_count": 189,
   "metadata": {},
   "outputs": [],
   "source": [
    "id2word = gensim.corpora.Dictionary()\n",
    "_ = id2word.merge_with(texts_dict) # garbage"
   ]
  },
  {
   "cell_type": "code",
   "execution_count": 190,
   "metadata": {},
   "outputs": [
    {
     "name": "stdout",
     "output_type": "stream",
     "text": [
      "[(1010, 1), (1187, 1), (2717, 1)]\n"
     ]
    }
   ],
   "source": [
    "# translate this document into (word, frequency) pairs\n",
    "query = id2word.doc2bow(query)\n",
    "print(query)"
   ]
  },
  {
   "cell_type": "code",
   "execution_count": 191,
   "metadata": {},
   "outputs": [
    {
     "data": {
      "text/plain": [
       "[(1, 0.025),\n",
       " (5, 0.025),\n",
       " (6, 0.025),\n",
       " (7, 0.025),\n",
       " (8, 0.025),\n",
       " (0, 0.025000146),\n",
       " (9, 0.025000412),\n",
       " (4, 0.025003318),\n",
       " (3, 0.02500436),\n",
       " (2, 0.77499175)]"
      ]
     },
     "execution_count": 191,
     "metadata": {},
     "output_type": "execute_result"
    }
   ],
   "source": [
    "a = list(sorted(ldamodels_bow[10][query], key=lambda x: x[1])) # sort by the second entry in the tuple\n",
    "a"
   ]
  },
  {
   "cell_type": "code",
   "execution_count": 192,
   "metadata": {},
   "outputs": [
    {
     "name": "stdout",
     "output_type": "stream",
     "text": [
      "0.026*\"clean\" + 0.019*\"water\" + 0.009*\"wash\" + 0.008*\"dri\" + 0.007*\"ice\" + 0.007*\"easi\" + 0.007*\"hair\" + 0.007*\"also\" + 0.007*\"heat\" + 0.006*\"hot\"\n"
     ]
    }
   ],
   "source": [
    "print(ldamodels_bow[10].print_topic(a[-1][0])) #most related"
   ]
  },
  {
   "cell_type": "code",
   "execution_count": 193,
   "metadata": {},
   "outputs": [
    {
     "name": "stdout",
     "output_type": "stream",
     "text": [
      "0.060*\"coffe\" + 0.016*\"cup\" + 0.014*\"tray\" + 0.011*\"drawer\" + 0.011*\"drink\" + 0.009*\"basket\" + 0.009*\"shelv\" + 0.008*\"curtain\" + 0.008*\"garlic\" + 0.008*\"blanket\"\n"
     ]
    }
   ],
   "source": [
    "print(ldamodels_tfidf[10].print_topic(a[-1][0])) #most related"
   ]
  },
  {
   "cell_type": "code",
   "execution_count": 255,
   "metadata": {},
   "outputs": [],
   "source": [
    "raw_query = 'eyelash mascara'\n",
    "query_words = raw_query.split()\n",
    "query = []\n",
    "for word in query_words:\n",
    "    # ad-hoc reuse steps from above\n",
    "    q_tokens = tokenizer.tokenize(word.lower())\n",
    "    q_stopped_tokens = [word for word in q_tokens if not word in merged_stopwords]\n",
    "    q_stemmed_tokens = [sb_stemmer.stem(word) for word in q_stopped_tokens]\n",
    "    query.append(q_stemmed_tokens[0]) # different frome above, this is not a lists of lists!"
   ]
  },
  {
   "cell_type": "code",
   "execution_count": 256,
   "metadata": {},
   "outputs": [],
   "source": [
    "id2word = gensim.corpora.Dictionary()\n",
    "_ = id2word.merge_with(texts_dict) # garbage"
   ]
  },
  {
   "cell_type": "code",
   "execution_count": 257,
   "metadata": {},
   "outputs": [
    {
     "name": "stdout",
     "output_type": "stream",
     "text": [
      "[(3986, 1), (3998, 1)]\n"
     ]
    }
   ],
   "source": [
    "# translate this document into (word, frequency) pairs\n",
    "query = id2word.doc2bow(query)\n",
    "print (query)"
   ]
  },
  {
   "cell_type": "code",
   "execution_count": 258,
   "metadata": {},
   "outputs": [
    {
     "data": {
      "text/plain": [
       "[(0, 0.033333335),\n",
       " (1, 0.033333335),\n",
       " (2, 0.033333335),\n",
       " (4, 0.033333335),\n",
       " (6, 0.033333335),\n",
       " (7, 0.033333335),\n",
       " (8, 0.033333335),\n",
       " (9, 0.033333335),\n",
       " (5, 0.03333989),\n",
       " (3, 0.69999343)]"
      ]
     },
     "execution_count": 258,
     "metadata": {},
     "output_type": "execute_result"
    }
   ],
   "source": [
    "a = list(sorted(ldamodels_bow[10][query], key=lambda x: x[1])) # sort by the second entry in the tuple\n",
    "a"
   ]
  },
  {
   "cell_type": "code",
   "execution_count": 259,
   "metadata": {},
   "outputs": [
    {
     "data": {
      "text/plain": [
       "'0.022*\"size\" + 0.022*\"cup\" + 0.022*\"nice\" + 0.016*\"set\" + 0.015*\"qualiti\" + 0.015*\"small\" + 0.014*\"perfect\" + 0.013*\"littl\" + 0.012*\"made\" + 0.012*\"price\"'"
      ]
     },
     "execution_count": 259,
     "metadata": {},
     "output_type": "execute_result"
    }
   ],
   "source": [
    "ldamodels_bow[10].print_topic(a[-1][0]) #most related"
   ]
  },
  {
   "cell_type": "code",
   "execution_count": 260,
   "metadata": {},
   "outputs": [
    {
     "data": {
      "text/plain": [
       "'0.015*\"egg\" + 0.012*\"pot\" + 0.010*\"christma\" + 0.009*\"grill\" + 0.008*\"len\" + 0.008*\"hair\" + 0.007*\"suction\" + 0.006*\"sharpen\" + 0.006*\"blade\" + 0.006*\"gift\"'"
      ]
     },
     "execution_count": 260,
     "metadata": {},
     "output_type": "execute_result"
    }
   ],
   "source": [
    "ldamodels_tfidf[10].print_topic(a[-1][0]) #most related"
   ]
  },
  {
   "cell_type": "code",
   "execution_count": 176,
   "metadata": {},
   "outputs": [],
   "source": [
    "raw_query = 'car premium air freshener'\n",
    "query_words = raw_query.split()\n",
    "query = []\n",
    "for word in query_words:\n",
    "    # ad-hoc reuse steps from above\n",
    "    q_tokens = tokenizer.tokenize(word.lower())\n",
    "    q_stopped_tokens = [word for word in q_tokens if not word in merged_stopwords]\n",
    "    q_stemmed_tokens = [sb_stemmer.stem(word) for word in q_stopped_tokens]\n",
    "    query.append(q_stemmed_tokens[0]) # different frome above, this is not a lists of lists!"
   ]
  },
  {
   "cell_type": "code",
   "execution_count": 177,
   "metadata": {},
   "outputs": [],
   "source": [
    "id2word = gensim.corpora.Dictionary()\n",
    "_ = id2word.merge_with(texts_dict) # garbage"
   ]
  },
  {
   "cell_type": "code",
   "execution_count": 178,
   "metadata": {},
   "outputs": [
    {
     "name": "stdout",
     "output_type": "stream",
     "text": [
      "[(85, 1), (158, 1), (548, 1), (1066, 1)]\n"
     ]
    }
   ],
   "source": [
    "# translate this document into (word, frequency) pairs\n",
    "query = id2word.doc2bow(query)\n",
    "print(query)"
   ]
  },
  {
   "cell_type": "code",
   "execution_count": 179,
   "metadata": {},
   "outputs": [
    {
     "data": {
      "text/plain": [
       "[(3, 0.020000001),\n",
       " (7, 0.020000001),\n",
       " (6, 0.020000296),\n",
       " (0, 0.020000333),\n",
       " (4, 0.020001436),\n",
       " (9, 0.020002108),\n",
       " (5, 0.020004645),\n",
       " (1, 0.020004794),\n",
       " (2, 0.020008927),\n",
       " (8, 0.81997746)]"
      ]
     },
     "execution_count": 179,
     "metadata": {},
     "output_type": "execute_result"
    }
   ],
   "source": [
    "a = list(sorted(ldamodels_bow[10][query], key=lambda x: x[1])) # sort by the second entry in the tuple\n",
    "a"
   ]
  },
  {
   "cell_type": "code",
   "execution_count": 180,
   "metadata": {
    "scrolled": true
   },
   "outputs": [
    {
     "data": {
      "text/plain": [
       "'0.023*\"pan\" + 0.015*\"filter\" + 0.014*\"buy\" + 0.014*\"year\" + 0.010*\"better\" + 0.009*\"much\" + 0.009*\"money\" + 0.008*\"price\" + 0.008*\"thing\" + 0.007*\"worth\"'"
      ]
     },
     "execution_count": 180,
     "metadata": {},
     "output_type": "execute_result"
    }
   ],
   "source": [
    "ldamodels_bow[10].print_topic(a[-1][0]) #most related"
   ]
  },
  {
   "cell_type": "code",
   "execution_count": 181,
   "metadata": {},
   "outputs": [
    {
     "data": {
      "text/plain": [
       "'0.021*\"camera\" + 0.013*\"spoon\" + 0.012*\"tast\" + 0.011*\"scale\" + 0.010*\"slice\" + 0.008*\"timer\" + 0.008*\"closet\" + 0.008*\"memori\" + 0.008*\"scoop\" + 0.008*\"cooki\"'"
      ]
     },
     "execution_count": 181,
     "metadata": {},
     "output_type": "execute_result"
    }
   ],
   "source": [
    "ldamodels_tfidf[10].print_topic(a[-1][0]) #most related"
   ]
  },
  {
   "cell_type": "code",
   "execution_count": 275,
   "metadata": {},
   "outputs": [],
   "source": [
    "import dill\n",
    "dill.dump_session('notebook_env.db')"
   ]
  },
  {
   "cell_type": "code",
   "execution_count": null,
   "metadata": {},
   "outputs": [],
   "source": [
    "import dill\n",
    "dill.load_session('notebook_env.db')"
   ]
  }
 ],
 "metadata": {
  "kernelspec": {
   "display_name": "Python 3",
   "language": "python",
   "name": "python3"
  },
  "language_info": {
   "codemirror_mode": {
    "name": "ipython",
    "version": 3
   },
   "file_extension": ".py",
   "mimetype": "text/x-python",
   "name": "python",
   "nbconvert_exporter": "python",
   "pygments_lexer": "ipython3",
   "version": "3.6.4"
  }
 },
 "nbformat": 4,
 "nbformat_minor": 2
}
